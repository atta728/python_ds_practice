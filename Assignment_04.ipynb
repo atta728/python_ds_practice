{
 "cells": [
  {
   "cell_type": "markdown",
   "id": "32da1208",
   "metadata": {},
   "source": [
    "#### 1. Make a calculator using Python with addition, subtraction, multiplication, division and power."
   ]
  },
  {
   "cell_type": "code",
   "execution_count": 14,
   "id": "cd4ffca7",
   "metadata": {},
   "outputs": [
    {
     "name": "stdout",
     "output_type": "stream",
     "text": [
      "Enter Your First Number: 1\n",
      "Choose Your Operation [Add(+), Subtract(-), Multiply(*), Divide(/), Power(**)]: *\n",
      "Enter Your Second Number: 7\n",
      "1 * 7 = 7\n",
      "Do you want to do another calculation (y/n): y\n",
      "Enter Your First Number: 2\n",
      "Choose Your Operation [Add(+), Subtract(-), Multiply(*), Divide(/), Power(**)]: /\n",
      "Enter Your Second Number: 1\n",
      "2 / 1 = 2.0\n",
      "Do you want to do another calculation (y/n): n\n"
     ]
    }
   ],
   "source": [
    "while True:\n",
    "    A = int(input(\"Enter Your First Number: \"))\n",
    "    operator = input(\"Choose Your Operation [Add(+), Subtract(-), Multiply(*), Divide(/), Power(**)]: \");\n",
    "    B = int(input(\"Enter Your Second Number: \"))\n",
    "    \n",
    "    #Add\n",
    "    if operator == \"+\":\n",
    "        print(A, operator, B,'=', A + B)\n",
    "        \n",
    "    #Subract\n",
    "    elif operator == \"-\":\n",
    "         print(A, operator, B,'=', A - B)\n",
    "        \n",
    "    #divide\n",
    "    elif operator == \"/\":\n",
    "         print(A, operator, B,'=', A / B)\n",
    "        \n",
    "    #Multiply\n",
    "    elif operator == \"*\":\n",
    "         print(A, operator, B,'=', A * B)\n",
    "        \n",
    "    #Power\n",
    "    elif operator == \"**\":\n",
    "         print(A, operator, B,'=', A ** B)\n",
    "        \n",
    "    else:\n",
    "        print(\"wrong operator!\")\n",
    "        \n",
    "    next_calculation = input(\"Do you want to do another calculation (y/n): \" )\n",
    "    if next_calculation == \"n\":\n",
    "        break"
   ]
  },
  {
   "cell_type": "markdown",
   "id": "c0e16c27",
   "metadata": {},
   "source": [
    "#### 2. Write a program to check if there is any numeric value in list using for loop."
   ]
  },
  {
   "cell_type": "code",
   "execution_count": 111,
   "id": "c5cdab2b",
   "metadata": {},
   "outputs": [
    {
     "name": "stdout",
     "output_type": "stream",
     "text": [
      "Numbers in list =  4\n"
     ]
    }
   ],
   "source": [
    "list=['1','orange','2','3','4','apple']\n",
    "\n",
    "#[x for x in list if x.isnumeric()]\n",
    "\n",
    "num=0\n",
    "for i in list:\n",
    "    if i.isnumeric():\n",
    "        num=num+1\n",
    "print('Numbers in list = ', num)"
   ]
  },
  {
   "cell_type": "markdown",
   "id": "54b671ff",
   "metadata": {},
   "source": [
    "#### 3. Write a Python script to add a key to a dictionary."
   ]
  },
  {
   "cell_type": "code",
   "execution_count": 117,
   "id": "c76e2f61",
   "metadata": {},
   "outputs": [
    {
     "name": "stdout",
     "output_type": "stream",
     "text": [
      "{'a': 1, 'b': 2, 'c': 3, 'd': 4}\n"
     ]
    }
   ],
   "source": [
    "dict = {'a': 1, 'b': 2, 'c': 3}\n",
    "\n",
    "dict['d'] = 4    # Updates if 'd' exists, else adds 'd'\n",
    "print(dict)"
   ]
  },
  {
   "cell_type": "markdown",
   "id": "dc46d51e",
   "metadata": {},
   "source": [
    "#### 4. Write a Python program to sum all the numeric items in a dictionary."
   ]
  },
  {
   "cell_type": "code",
   "execution_count": 116,
   "id": "d0f84853",
   "metadata": {},
   "outputs": [
    {
     "name": "stdout",
     "output_type": "stream",
     "text": [
      "6\n"
     ]
    }
   ],
   "source": [
    "dict={'a': 1, 'b': 2, 'c': 3, 'd':'e'}\n",
    "\n",
    "sum = 0\n",
    "for i in dict.values():\n",
    "    if isinstance(i, int):\n",
    "        sum = sum + i\n",
    "print(sum)\n"
   ]
  },
  {
   "cell_type": "markdown",
   "id": "43cc7f74",
   "metadata": {},
   "source": [
    "#### 5. Write a program to identify duplicate values from list."
   ]
  },
  {
   "cell_type": "code",
   "execution_count": 115,
   "id": "b17efbd1",
   "metadata": {},
   "outputs": [
    {
     "name": "stdout",
     "output_type": "stream",
     "text": [
      "Duplicate values:\n",
      "[3, 3, 'a']\n"
     ]
    }
   ],
   "source": [
    "a=[1,2,'a',3,3,3,'a','b']\n",
    "\n",
    "uniques=[]\n",
    "dups=[]\n",
    "\n",
    "for i in a:\n",
    "    if i not in uniques:\n",
    "        uniques.append(i)    #Unique values\n",
    "    else:\n",
    "        dups.append(i)\n",
    "        \n",
    "print(\"Duplicate values:\")\n",
    "print(dups)"
   ]
  },
  {
   "cell_type": "markdown",
   "id": "90a730b5",
   "metadata": {},
   "source": [
    "#### 6. Write a Python script to check if a given key already exists in a dictionary."
   ]
  },
  {
   "cell_type": "code",
   "execution_count": 128,
   "id": "cbaa98e4",
   "metadata": {},
   "outputs": [
    {
     "name": "stdout",
     "output_type": "stream",
     "text": [
      "Enter Key: d\n",
      "Doesn't Exist\n"
     ]
    }
   ],
   "source": [
    "dict = {'a': 1, 'b':2, 'c':3}\n",
    "\n",
    "key = input(\"Enter Key: \")\n",
    "print(\"Exist\" if key in dict else \"Doesn't Exist\")"
   ]
  },
  {
   "cell_type": "code",
   "execution_count": null,
   "id": "655bb98e",
   "metadata": {},
   "outputs": [],
   "source": []
  }
 ],
 "metadata": {
  "kernelspec": {
   "display_name": "Python 3",
   "language": "python",
   "name": "python3"
  },
  "language_info": {
   "codemirror_mode": {
    "name": "ipython",
    "version": 3
   },
   "file_extension": ".py",
   "mimetype": "text/x-python",
   "name": "python",
   "nbconvert_exporter": "python",
   "pygments_lexer": "ipython3",
   "version": "3.8.8"
  }
 },
 "nbformat": 4,
 "nbformat_minor": 5
}
