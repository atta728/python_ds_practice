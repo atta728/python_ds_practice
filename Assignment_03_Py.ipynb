{
 "cells": [
  {
   "cell_type": "markdown",
   "id": "ea6a1146",
   "metadata": {},
   "source": [
    "#### 1. Write a Python program to print the following string in a specific format (see the output).<br>&emsp;Twinkle, twinkle, little star,<br>&emsp;&emsp;&emsp;&emsp;&emsp;How I wonder what you are!<br>&emsp;&emsp;&emsp;&emsp;&emsp;&emsp;&emsp;&emsp;Up above the world so high,<br>&emsp;&emsp;&emsp;&emsp;&emsp;&emsp;&emsp;&emsp;Like a diamond in the sky.<br>&emsp;Twinkle, twinkle, little star,<br>&emsp;&emsp;&emsp;&emsp;&emsp;How I wonder what you are"
   ]
  },
  {
   "cell_type": "code",
   "execution_count": 5,
   "id": "e92e39d1",
   "metadata": {},
   "outputs": [
    {
     "name": "stdout",
     "output_type": "stream",
     "text": [
      "Twinkle, twinkle, little star,\n",
      "\tHow I wonder what you are!\n",
      "\t\tUp above the world so high,\n",
      "\t\tLike a diamond in the sky.\n",
      "Twinkle, twinkle, little star,\n",
      "\tHow I wonder what you are\n"
     ]
    }
   ],
   "source": [
    "print(\"Twinkle, twinkle, little star,\\n\\tHow I wonder what you are!\\n\\t\\tUp above the world so high,\\n\\t\\tLike a diamond in the sky.\\nTwinkle, twinkle, little star,\\n\\tHow I wonder what you are\");"
   ]
  },
  {
   "cell_type": "markdown",
   "id": "64a2fafe",
   "metadata": {},
   "source": [
    "#### 2. Write a Python program to get the Python version you are using."
   ]
  },
  {
   "cell_type": "code",
   "execution_count": 17,
   "id": "8edeb7dd",
   "metadata": {},
   "outputs": [
    {
     "name": "stdout",
     "output_type": "stream",
     "text": [
      "3.8.8\n"
     ]
    }
   ],
   "source": [
    "from platform import python_version\n",
    "print(python_version());"
   ]
  },
  {
   "cell_type": "code",
   "execution_count": 18,
   "id": "2d4fff14",
   "metadata": {},
   "outputs": [
    {
     "name": "stdout",
     "output_type": "stream",
     "text": [
      "3.8.8 (default, Apr 13 2021, 15:08:03) [MSC v.1916 64 bit (AMD64)]\n"
     ]
    }
   ],
   "source": [
    "import sys\n",
    "print(sys.version);"
   ]
  },
  {
   "cell_type": "code",
   "execution_count": 21,
   "id": "726220b2",
   "metadata": {},
   "outputs": [
    {
     "name": "stdout",
     "output_type": "stream",
     "text": [
      "Python 3.8.8\r\n"
     ]
    }
   ],
   "source": [
    "import subprocess\n",
    "\n",
    "#b'Python 3.8.8\\r\\n'\n",
    "pythonVersion = subprocess.check_output([\"python\", \"--version\"]);\n",
    "# decode to string\n",
    "pythonVersion = pythonVersion.decode(); # utf-8\n",
    "print(pythonVersion, end='');"
   ]
  },
  {
   "cell_type": "markdown",
   "id": "d96d0d25",
   "metadata": {},
   "source": [
    "#### 3. Write a Python program to display the current date and time."
   ]
  },
  {
   "cell_type": "code",
   "execution_count": 20,
   "id": "0d5a9596",
   "metadata": {},
   "outputs": [
    {
     "name": "stdout",
     "output_type": "stream",
     "text": [
      "2021-10-23 08:56:31\n"
     ]
    }
   ],
   "source": [
    "from datetime import datetime\n",
    "now = datetime.now();\n",
    "print (now.strftime(\"%Y-%m-%d %H:%M:%S\"));"
   ]
  },
  {
   "cell_type": "code",
   "execution_count": 6,
   "id": "7ba69ac6",
   "metadata": {},
   "outputs": [
    {
     "name": "stdout",
     "output_type": "stream",
     "text": [
      "Sat Oct 23 15:34:08 2021\n"
     ]
    }
   ],
   "source": [
    "import time\n",
    "print (time.asctime(time.localtime(time.time())));"
   ]
  },
  {
   "cell_type": "code",
   "execution_count": 4,
   "id": "8d53c786",
   "metadata": {},
   "outputs": [
    {
     "name": "stdout",
     "output_type": "stream",
     "text": [
      "23-10-2021 15:27:04\n"
     ]
    }
   ],
   "source": [
    "from time import localtime, strftime\\\n",
    "print(strftime(\"%d-%m-%Y %H:%M:%S\", localtime()));"
   ]
  },
  {
   "cell_type": "code",
   "execution_count": 7,
   "id": "f3c411e6",
   "metadata": {},
   "outputs": [
    {
     "name": "stdout",
     "output_type": "stream",
     "text": [
      "Sat Oct 23 15:34:11 2021\n"
     ]
    }
   ],
   "source": [
    "import time\n",
    "print (time.ctime());"
   ]
  },
  {
   "cell_type": "markdown",
   "id": "bd10ec0b",
   "metadata": {},
   "source": [
    "#### 4. Write a Python program which accepts the radius of a circle from the user and compute the area."
   ]
  },
  {
   "cell_type": "code",
   "execution_count": 31,
   "id": "ec61dba0",
   "metadata": {},
   "outputs": [
    {
     "name": "stdout",
     "output_type": "stream",
     "text": [
      "Radius= 1\n",
      "Area  = 3.141592653589793\n"
     ]
    }
   ],
   "source": [
    "from math import pi\n",
    "r = float(input (\"Radius= \"))\n",
    "if r>0:\n",
    "    print (\"Area  = \" + str(pi * (r**2))); ##πr^2,  pow(r, 2)\n",
    "else:\n",
    "    print (\"Incorrect Value!\");"
   ]
  },
  {
   "cell_type": "markdown",
   "id": "da2c3960",
   "metadata": {},
   "source": [
    "#### 5. Write a Python program which accepts the user's first and last name and print them in reverse order with a space between them."
   ]
  },
  {
   "cell_type": "code",
   "execution_count": 2,
   "id": "75958768",
   "metadata": {},
   "outputs": [
    {
     "name": "stdout",
     "output_type": "stream",
     "text": [
      "Enter First Name : Muhammad\n",
      "Enter Last Name : Atta\n",
      "Atta Muhammad\n"
     ]
    }
   ],
   "source": [
    "fname = input(\"Enter First Name : \");\n",
    "lname = input(\"Enter Last Name : \");\n",
    "print (lname + \" \" + fname);"
   ]
  },
  {
   "cell_type": "code",
   "execution_count": 3,
   "id": "7f8a8caa",
   "metadata": {},
   "outputs": [
    {
     "name": "stdout",
     "output_type": "stream",
     "text": [
      "Enter First and Last Name : Muhammad Atta\n",
      "Atta Muhammad\n"
     ]
    }
   ],
   "source": [
    "name = input(\"Enter First and Last Name : \").split(' ');\n",
    "print(name[-1],name[0]);"
   ]
  },
  {
   "cell_type": "code",
   "execution_count": 45,
   "id": "d878c6f1",
   "metadata": {},
   "outputs": [
    {
     "name": "stdout",
     "output_type": "stream",
     "text": [
      "Enter First and Last Name : Muhammad Atta\n",
      "Atta Muhammad\n"
     ]
    }
   ],
   "source": [
    "name = input(\"Enter First and Last Name : \").split();\n",
    "print(' '.join(reversed(name)));"
   ]
  },
  {
   "cell_type": "code",
   "execution_count": 4,
   "id": "829da5ae",
   "metadata": {},
   "outputs": [
    {
     "name": "stdout",
     "output_type": "stream",
     "text": [
      "Enter First and Last Name : Muhammad Atta\n",
      "Atta Muhammad\n"
     ]
    }
   ],
   "source": [
    "name = input(\"Enter First and Last Name : \").split();\n",
    "print(name[1], end=' ');\n",
    "print(name[0]);"
   ]
  },
  {
   "cell_type": "code",
   "execution_count": 5,
   "id": "8e76de57",
   "metadata": {},
   "outputs": [
    {
     "name": "stdout",
     "output_type": "stream",
     "text": [
      "Enter First Name : Muhammad\n",
      "Enter Last Name : Atta\n",
      "Atta Muhammad\n"
     ]
    }
   ],
   "source": [
    "print(\"{1} {0}\".format(input(\"Enter First Name : \"),input(\"Enter Last Name : \")));"
   ]
  },
  {
   "cell_type": "code",
   "execution_count": 6,
   "id": "6d8546d4",
   "metadata": {},
   "outputs": [
    {
     "name": "stdout",
     "output_type": "stream",
     "text": [
      "Enter First and Last Name : Muhammad Atta\n",
      "Atta Muhammad\n"
     ]
    }
   ],
   "source": [
    "print(*input('Enter First and Last Name : ').split()[::-1]);"
   ]
  },
  {
   "cell_type": "markdown",
   "id": "08e4495a",
   "metadata": {},
   "source": [
    "#### 6. Write a python program which takes two inputs from user and print the addition."
   ]
  },
  {
   "cell_type": "code",
   "execution_count": 11,
   "id": "4a8c6be0",
   "metadata": {},
   "outputs": [
    {
     "name": "stdout",
     "output_type": "stream",
     "text": [
      "Enter First Number: 1\n",
      "Enter Second Number: 2\n",
      "Sum =  3\n"
     ]
    }
   ],
   "source": [
    "a = int(input(\"Enter First Number: \"));\n",
    "b = int(input(\"Enter Second Number: \"));\n",
    "print(\"Sum = \", a+b);"
   ]
  },
  {
   "cell_type": "code",
   "execution_count": 10,
   "id": "037a012b",
   "metadata": {},
   "outputs": [
    {
     "name": "stdout",
     "output_type": "stream",
     "text": [
      "Enter First Number: 1\n",
      "Enter Second Number: 2\n",
      "Sum = 3.0\n"
     ]
    }
   ],
   "source": [
    "print('Sum = %.1f' %(float(input('Enter First Number: '))+float(input('Enter Second Number: '))));"
   ]
  },
  {
   "cell_type": "markdown",
   "id": "0356703a",
   "metadata": {},
   "source": [
    "#### 7. Write a program which takes 5 inputs from user for different subject’s marks, total it and generate mark sheet using grades."
   ]
  },
  {
   "cell_type": "code",
   "execution_count": 2,
   "id": "dd07b360",
   "metadata": {},
   "outputs": [
    {
     "name": "stdout",
     "output_type": "stream",
     "text": [
      "Enter Marks of English: 60\n",
      "Enter Marks of Computer: 70\n",
      "Enter Marks of Math: 80\n",
      "Enter Marks of Physics: 60\n",
      "Enter Marks of Chemistry: 50\n",
      "Grade B\n"
     ]
    }
   ],
   "source": [
    "eng=int(input(\"Enter Marks of English: \"));\n",
    "comp=int(input(\"Enter Marks of Computer: \"));\n",
    "math=int(input(\"Enter Marks of Math: \"));\n",
    "phy=int(input(\"Enter Marks of Physics: \"));\n",
    "chem=int(input(\"Enter Marks of Chemistry: \"));\n",
    "\n",
    "TotalMarks=500;\n",
    "\n",
    "percent=((eng+comp+math+phy+chem)/TotalMarks)*100;\n",
    "\n",
    "if percent<100 and percent>80:\n",
    "    print(\"Grade A+\");\n",
    "elif percent<80 and percent>70:\n",
    "    print(\"Grade A\");\n",
    "elif percent<70 and percent>60:\n",
    "    print(\"Grade B\");\n",
    "elif percent<60 and percent>50:\n",
    "    print(\"Grade C\");\n",
    "elif percent<50 and percent>40:\n",
    "    print(\"Grade D\");\n",
    "elif percent<40 and percent>33:\n",
    "    print(\"Grade E\");\n",
    "elif percent<33 and percent>0:\n",
    "    print(\"Fail\");\n",
    "else:\n",
    "    print(\"Invalid Percentage\");\n"
   ]
  },
  {
   "cell_type": "markdown",
   "id": "5c35e871",
   "metadata": {},
   "source": [
    "#### 8. Write a program which take input from user and identify that the given number is even or odd."
   ]
  },
  {
   "cell_type": "code",
   "execution_count": 10,
   "id": "508b2708",
   "metadata": {},
   "outputs": [
    {
     "name": "stdout",
     "output_type": "stream",
     "text": [
      "Enter a Number: 4\n",
      "4 is even\n"
     ]
    }
   ],
   "source": [
    "n = int(input(\"Enter a Number: \"));\n",
    "if (n%2) == 0:\n",
    "    print(n, \"is even\");\n",
    "else:\n",
    "    print(n, \"is odd\");"
   ]
  },
  {
   "cell_type": "markdown",
   "id": "a4454d8b",
   "metadata": {},
   "source": [
    "#### 9. Write a program which print the length of the list."
   ]
  },
  {
   "cell_type": "code",
   "execution_count": 13,
   "id": "44498031",
   "metadata": {},
   "outputs": [
    {
     "name": "stdout",
     "output_type": "stream",
     "text": [
      "Length =  5\n"
     ]
    }
   ],
   "source": [
    "list = [1, 2, 3, 4, 5 ];\n",
    "print (\"Length = \", len(list));"
   ]
  },
  {
   "cell_type": "markdown",
   "id": "1baaadce",
   "metadata": {},
   "source": [
    "#### 10.Write a Python program to sum all the numeric items in a list."
   ]
  },
  {
   "cell_type": "code",
   "execution_count": 16,
   "id": "47b402d6",
   "metadata": {},
   "outputs": [
    {
     "name": "stdout",
     "output_type": "stream",
     "text": [
      "6\n"
     ]
    }
   ],
   "source": [
    "numbers = [1,2,4,-1];\n",
    "print(sum(numbers));"
   ]
  },
  {
   "cell_type": "markdown",
   "id": "6a87ef6f",
   "metadata": {},
   "source": [
    "#### 11.Write a Python program to get the largest number from a numeric list."
   ]
  },
  {
   "cell_type": "code",
   "execution_count": 20,
   "id": "0bdc9d3e",
   "metadata": {},
   "outputs": [
    {
     "name": "stdout",
     "output_type": "stream",
     "text": [
      "Largest number is:  99\n"
     ]
    }
   ],
   "source": [
    "list = [10, 20, 4, 45, 99];\n",
    "print(\"Largest number is: \", max(list));"
   ]
  },
  {
   "cell_type": "code",
   "execution_count": 21,
   "id": "a340e295",
   "metadata": {},
   "outputs": [
    {
     "name": "stdout",
     "output_type": "stream",
     "text": [
      "Largest number is: 40\n"
     ]
    }
   ],
   "source": [
    "list = [1, 10, 40, 36, 16];\n",
    "list.sort();\n",
    "print(\"Largest number is:\", list[-1]);"
   ]
  },
  {
   "cell_type": "code",
   "execution_count": 23,
   "id": "1af7695e",
   "metadata": {},
   "outputs": [
    {
     "name": "stdout",
     "output_type": "stream",
     "text": [
      "Largest number is: 41\n"
     ]
    }
   ],
   "source": [
    "list=[1,4,22,41,5,2];\n",
    "print(\"Largest number is:\",sorted(list)[-1]);"
   ]
  },
  {
   "cell_type": "markdown",
   "id": "bf17e919",
   "metadata": {},
   "source": [
    "#### 12. Take a list, say for example this one: <br> a = [1, 1, 2, 3, 5, 8, 13, 21, 34, 55, 89] <br> Write a program that prints out all the elements of the list that are less than 5."
   ]
  },
  {
   "cell_type": "code",
   "execution_count": 26,
   "id": "e333ad7f",
   "metadata": {},
   "outputs": [
    {
     "name": "stdout",
     "output_type": "stream",
     "text": [
      "1\n",
      "1\n",
      "2\n",
      "3\n",
      "0\n"
     ]
    }
   ],
   "source": [
    "a = [1, 1, 2, 3, 5, 8, 13, 21, 34, 55, 89]\n",
    "for n in a:\n",
    "    if n < 5:\n",
    "        print(n)"
   ]
  },
  {
   "cell_type": "code",
   "execution_count": 30,
   "id": "a8f68e18",
   "metadata": {},
   "outputs": [
    {
     "name": "stdout",
     "output_type": "stream",
     "text": [
      "[1, 1, 2, 3]\n"
     ]
    }
   ],
   "source": [
    "a = [1, 1, 2, 3, 5, 8, 13, 21, 34, 55, 89]\n",
    "b = []\n",
    "for i in a:\n",
    "    if i < 5:\n",
    "        b.append(i)\n",
    "print(b)"
   ]
  },
  {
   "cell_type": "code",
   "execution_count": null,
   "id": "5f1364e2",
   "metadata": {},
   "outputs": [],
   "source": []
  }
 ],
 "metadata": {
  "kernelspec": {
   "display_name": "Python 3",
   "language": "python",
   "name": "python3"
  },
  "language_info": {
   "codemirror_mode": {
    "name": "ipython",
    "version": 3
   },
   "file_extension": ".py",
   "mimetype": "text/x-python",
   "name": "python",
   "nbconvert_exporter": "python",
   "pygments_lexer": "ipython3",
   "version": "3.8.8"
  }
 },
 "nbformat": 4,
 "nbformat_minor": 5
}
